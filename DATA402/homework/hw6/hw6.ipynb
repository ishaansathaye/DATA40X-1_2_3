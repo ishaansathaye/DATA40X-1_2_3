{
 "cells": [
  {
   "cell_type": "markdown",
   "metadata": {},
   "source": [
    "# Homework 6 - Ishaan Sathaye"
   ]
  },
  {
   "cell_type": "markdown",
   "metadata": {},
   "source": [
    "## Section B: Computer Implementation"
   ]
  },
  {
   "cell_type": "code",
   "execution_count": 16,
   "metadata": {},
   "outputs": [],
   "source": [
    "import numpy as np\n",
    "import pandas as pd\n",
    "from sklearn.linear_model import LinearRegression"
   ]
  },
  {
   "cell_type": "markdown",
   "metadata": {},
   "source": [
    "Mapped Indica as 0 and Sativa as 1:"
   ]
  },
  {
   "cell_type": "code",
   "execution_count": 30,
   "metadata": {},
   "outputs": [
    {
     "data": {
      "text/html": [
       "<div>\n",
       "<style scoped>\n",
       "    .dataframe tbody tr th:only-of-type {\n",
       "        vertical-align: middle;\n",
       "    }\n",
       "\n",
       "    .dataframe tbody tr th {\n",
       "        vertical-align: top;\n",
       "    }\n",
       "\n",
       "    .dataframe thead th {\n",
       "        text-align: right;\n",
       "    }\n",
       "</style>\n",
       "<table border=\"1\" class=\"dataframe\">\n",
       "  <thead>\n",
       "    <tr style=\"text-align: right;\">\n",
       "      <th></th>\n",
       "      <th>Strain</th>\n",
       "      <th>Type</th>\n",
       "      <th>Rating</th>\n",
       "      <th>Creative</th>\n",
       "      <th>Energetic</th>\n",
       "      <th>Tingly</th>\n",
       "      <th>Euphoric</th>\n",
       "      <th>Relaxed</th>\n",
       "      <th>Aroused</th>\n",
       "      <th>Happy</th>\n",
       "      <th>...</th>\n",
       "      <th>Ammonia</th>\n",
       "      <th>Minty</th>\n",
       "      <th>Tree</th>\n",
       "      <th>Fruit</th>\n",
       "      <th>Butter</th>\n",
       "      <th>Pineapple</th>\n",
       "      <th>Tar</th>\n",
       "      <th>Rose</th>\n",
       "      <th>Plum</th>\n",
       "      <th>Pear</th>\n",
       "    </tr>\n",
       "  </thead>\n",
       "  <tbody>\n",
       "    <tr>\n",
       "      <th>2</th>\n",
       "      <td>1024</td>\n",
       "      <td>1</td>\n",
       "      <td>4.4</td>\n",
       "      <td>1.0</td>\n",
       "      <td>1.0</td>\n",
       "      <td>0.0</td>\n",
       "      <td>0.0</td>\n",
       "      <td>1.0</td>\n",
       "      <td>0.0</td>\n",
       "      <td>1.0</td>\n",
       "      <td>...</td>\n",
       "      <td>0.0</td>\n",
       "      <td>0.0</td>\n",
       "      <td>0.0</td>\n",
       "      <td>0.0</td>\n",
       "      <td>0.0</td>\n",
       "      <td>0.0</td>\n",
       "      <td>0.0</td>\n",
       "      <td>0.0</td>\n",
       "      <td>0.0</td>\n",
       "      <td>0.0</td>\n",
       "    </tr>\n",
       "    <tr>\n",
       "      <th>5</th>\n",
       "      <td>3-Bears-Og</td>\n",
       "      <td>0</td>\n",
       "      <td>0.0</td>\n",
       "      <td>0.0</td>\n",
       "      <td>0.0</td>\n",
       "      <td>0.0</td>\n",
       "      <td>0.0</td>\n",
       "      <td>0.0</td>\n",
       "      <td>0.0</td>\n",
       "      <td>0.0</td>\n",
       "      <td>...</td>\n",
       "      <td>0.0</td>\n",
       "      <td>0.0</td>\n",
       "      <td>0.0</td>\n",
       "      <td>0.0</td>\n",
       "      <td>0.0</td>\n",
       "      <td>0.0</td>\n",
       "      <td>0.0</td>\n",
       "      <td>0.0</td>\n",
       "      <td>0.0</td>\n",
       "      <td>0.0</td>\n",
       "    </tr>\n",
       "    <tr>\n",
       "      <th>7</th>\n",
       "      <td>303-Og</td>\n",
       "      <td>0</td>\n",
       "      <td>4.2</td>\n",
       "      <td>0.0</td>\n",
       "      <td>0.0</td>\n",
       "      <td>0.0</td>\n",
       "      <td>1.0</td>\n",
       "      <td>1.0</td>\n",
       "      <td>0.0</td>\n",
       "      <td>1.0</td>\n",
       "      <td>...</td>\n",
       "      <td>0.0</td>\n",
       "      <td>0.0</td>\n",
       "      <td>0.0</td>\n",
       "      <td>0.0</td>\n",
       "      <td>0.0</td>\n",
       "      <td>0.0</td>\n",
       "      <td>0.0</td>\n",
       "      <td>0.0</td>\n",
       "      <td>0.0</td>\n",
       "      <td>0.0</td>\n",
       "    </tr>\n",
       "    <tr>\n",
       "      <th>8</th>\n",
       "      <td>3D-Cbd</td>\n",
       "      <td>1</td>\n",
       "      <td>4.6</td>\n",
       "      <td>0.0</td>\n",
       "      <td>0.0</td>\n",
       "      <td>0.0</td>\n",
       "      <td>0.0</td>\n",
       "      <td>1.0</td>\n",
       "      <td>0.0</td>\n",
       "      <td>1.0</td>\n",
       "      <td>...</td>\n",
       "      <td>0.0</td>\n",
       "      <td>0.0</td>\n",
       "      <td>0.0</td>\n",
       "      <td>0.0</td>\n",
       "      <td>0.0</td>\n",
       "      <td>0.0</td>\n",
       "      <td>0.0</td>\n",
       "      <td>0.0</td>\n",
       "      <td>0.0</td>\n",
       "      <td>0.0</td>\n",
       "    </tr>\n",
       "    <tr>\n",
       "      <th>9</th>\n",
       "      <td>3X-Crazy</td>\n",
       "      <td>0</td>\n",
       "      <td>4.4</td>\n",
       "      <td>0.0</td>\n",
       "      <td>0.0</td>\n",
       "      <td>1.0</td>\n",
       "      <td>1.0</td>\n",
       "      <td>1.0</td>\n",
       "      <td>0.0</td>\n",
       "      <td>1.0</td>\n",
       "      <td>...</td>\n",
       "      <td>0.0</td>\n",
       "      <td>0.0</td>\n",
       "      <td>0.0</td>\n",
       "      <td>0.0</td>\n",
       "      <td>0.0</td>\n",
       "      <td>0.0</td>\n",
       "      <td>0.0</td>\n",
       "      <td>0.0</td>\n",
       "      <td>0.0</td>\n",
       "      <td>0.0</td>\n",
       "    </tr>\n",
       "  </tbody>\n",
       "</table>\n",
       "<p>5 rows × 67 columns</p>\n",
       "</div>"
      ],
      "text/plain": [
       "       Strain  Type  Rating  Creative  Energetic  Tingly  Euphoric  Relaxed  \\\n",
       "2        1024     1     4.4       1.0        1.0     0.0       0.0      1.0   \n",
       "5  3-Bears-Og     0     0.0       0.0        0.0     0.0       0.0      0.0   \n",
       "7      303-Og     0     4.2       0.0        0.0     0.0       1.0      1.0   \n",
       "8      3D-Cbd     1     4.6       0.0        0.0     0.0       0.0      1.0   \n",
       "9    3X-Crazy     0     4.4       0.0        0.0     1.0       1.0      1.0   \n",
       "\n",
       "   Aroused  Happy  ...  Ammonia  Minty  Tree  Fruit  Butter  Pineapple  Tar  \\\n",
       "2      0.0    1.0  ...      0.0    0.0   0.0    0.0     0.0        0.0  0.0   \n",
       "5      0.0    0.0  ...      0.0    0.0   0.0    0.0     0.0        0.0  0.0   \n",
       "7      0.0    1.0  ...      0.0    0.0   0.0    0.0     0.0        0.0  0.0   \n",
       "8      0.0    1.0  ...      0.0    0.0   0.0    0.0     0.0        0.0  0.0   \n",
       "9      0.0    1.0  ...      0.0    0.0   0.0    0.0     0.0        0.0  0.0   \n",
       "\n",
       "   Rose  Plum  Pear  \n",
       "2   0.0   0.0   0.0  \n",
       "5   0.0   0.0   0.0  \n",
       "7   0.0   0.0   0.0  \n",
       "8   0.0   0.0   0.0  \n",
       "9   0.0   0.0   0.0  \n",
       "\n",
       "[5 rows x 67 columns]"
      ]
     },
     "execution_count": 30,
     "metadata": {},
     "output_type": "execute_result"
    }
   ],
   "source": [
    "cannabis = pd.read_csv('../hw3/cannabis_full.csv')\n",
    "cannabis_hybrid = cannabis[cannabis['Type'] == 'hybrid']\n",
    "\n",
    "# remove hybrid strains\n",
    "cannabis = cannabis[cannabis['Type'] != 'hybrid']\n",
    "\n",
    "# remove effects and flavors\n",
    "cannabis = cannabis.drop(columns=['Effects', 'Flavor'])\n",
    "\n",
    "# map type to 0 or 1\n",
    "cannabis['Type'] = cannabis['Type'].map({'indica': 0, 'sativa': 1})\n",
    "\n",
    "# drop null values\n",
    "cannabis = cannabis.dropna()\n",
    "\n",
    "cannabis.head()"
   ]
  },
  {
   "cell_type": "markdown",
   "metadata": {},
   "source": [
    "### Step 1: Regression"
   ]
  },
  {
   "cell_type": "code",
   "execution_count": 18,
   "metadata": {},
   "outputs": [
    {
     "data": {
      "text/html": [
       "<style>#sk-container-id-1 {color: black;}#sk-container-id-1 pre{padding: 0;}#sk-container-id-1 div.sk-toggleable {background-color: white;}#sk-container-id-1 label.sk-toggleable__label {cursor: pointer;display: block;width: 100%;margin-bottom: 0;padding: 0.3em;box-sizing: border-box;text-align: center;}#sk-container-id-1 label.sk-toggleable__label-arrow:before {content: \"▸\";float: left;margin-right: 0.25em;color: #696969;}#sk-container-id-1 label.sk-toggleable__label-arrow:hover:before {color: black;}#sk-container-id-1 div.sk-estimator:hover label.sk-toggleable__label-arrow:before {color: black;}#sk-container-id-1 div.sk-toggleable__content {max-height: 0;max-width: 0;overflow: hidden;text-align: left;background-color: #f0f8ff;}#sk-container-id-1 div.sk-toggleable__content pre {margin: 0.2em;color: black;border-radius: 0.25em;background-color: #f0f8ff;}#sk-container-id-1 input.sk-toggleable__control:checked~div.sk-toggleable__content {max-height: 200px;max-width: 100%;overflow: auto;}#sk-container-id-1 input.sk-toggleable__control:checked~label.sk-toggleable__label-arrow:before {content: \"▾\";}#sk-container-id-1 div.sk-estimator input.sk-toggleable__control:checked~label.sk-toggleable__label {background-color: #d4ebff;}#sk-container-id-1 div.sk-label input.sk-toggleable__control:checked~label.sk-toggleable__label {background-color: #d4ebff;}#sk-container-id-1 input.sk-hidden--visually {border: 0;clip: rect(1px 1px 1px 1px);clip: rect(1px, 1px, 1px, 1px);height: 1px;margin: -1px;overflow: hidden;padding: 0;position: absolute;width: 1px;}#sk-container-id-1 div.sk-estimator {font-family: monospace;background-color: #f0f8ff;border: 1px dotted black;border-radius: 0.25em;box-sizing: border-box;margin-bottom: 0.5em;}#sk-container-id-1 div.sk-estimator:hover {background-color: #d4ebff;}#sk-container-id-1 div.sk-parallel-item::after {content: \"\";width: 100%;border-bottom: 1px solid gray;flex-grow: 1;}#sk-container-id-1 div.sk-label:hover label.sk-toggleable__label {background-color: #d4ebff;}#sk-container-id-1 div.sk-serial::before {content: \"\";position: absolute;border-left: 1px solid gray;box-sizing: border-box;top: 0;bottom: 0;left: 50%;z-index: 0;}#sk-container-id-1 div.sk-serial {display: flex;flex-direction: column;align-items: center;background-color: white;padding-right: 0.2em;padding-left: 0.2em;position: relative;}#sk-container-id-1 div.sk-item {position: relative;z-index: 1;}#sk-container-id-1 div.sk-parallel {display: flex;align-items: stretch;justify-content: center;background-color: white;position: relative;}#sk-container-id-1 div.sk-item::before, #sk-container-id-1 div.sk-parallel-item::before {content: \"\";position: absolute;border-left: 1px solid gray;box-sizing: border-box;top: 0;bottom: 0;left: 50%;z-index: -1;}#sk-container-id-1 div.sk-parallel-item {display: flex;flex-direction: column;z-index: 1;position: relative;background-color: white;}#sk-container-id-1 div.sk-parallel-item:first-child::after {align-self: flex-end;width: 50%;}#sk-container-id-1 div.sk-parallel-item:last-child::after {align-self: flex-start;width: 50%;}#sk-container-id-1 div.sk-parallel-item:only-child::after {width: 0;}#sk-container-id-1 div.sk-dashed-wrapped {border: 1px dashed gray;margin: 0 0.4em 0.5em 0.4em;box-sizing: border-box;padding-bottom: 0.4em;background-color: white;}#sk-container-id-1 div.sk-label label {font-family: monospace;font-weight: bold;display: inline-block;line-height: 1.2em;}#sk-container-id-1 div.sk-label-container {text-align: center;}#sk-container-id-1 div.sk-container {/* jupyter's `normalize.less` sets `[hidden] { display: none; }` but bootstrap.min.css set `[hidden] { display: none !important; }` so we also need the `!important` here to be able to override the default hidden behavior on the sphinx rendered scikit-learn.org. See: https://github.com/scikit-learn/scikit-learn/issues/21755 */display: inline-block !important;position: relative;}#sk-container-id-1 div.sk-text-repr-fallback {display: none;}</style><div id=\"sk-container-id-1\" class=\"sk-top-container\"><div class=\"sk-text-repr-fallback\"><pre>LinearRegression()</pre><b>In a Jupyter environment, please rerun this cell to show the HTML representation or trust the notebook. <br />On GitHub, the HTML representation is unable to render, please try loading this page with nbviewer.org.</b></div><div class=\"sk-container\" hidden><div class=\"sk-item\"><div class=\"sk-estimator sk-toggleable\"><input class=\"sk-toggleable__control sk-hidden--visually\" id=\"sk-estimator-id-1\" type=\"checkbox\" checked><label for=\"sk-estimator-id-1\" class=\"sk-toggleable__label sk-toggleable__label-arrow\">LinearRegression</label><div class=\"sk-toggleable__content\"><pre>LinearRegression()</pre></div></div></div></div></div>"
      ],
      "text/plain": [
       "LinearRegression()"
      ]
     },
     "execution_count": 18,
     "metadata": {},
     "output_type": "execute_result"
    }
   ],
   "source": [
    "effect_cols = cannabis.columns[cannabis.columns.get_loc(\"Creative\"):cannabis.columns.get_loc(\"Mouth\")+1]\n",
    "flavors_cols = cannabis.columns[cannabis.columns.get_loc(\"Earthy\"):cannabis.columns.get_loc(\"Pear\")+1]\n",
    "\n",
    "# Logistic Regression using only effect predictors\n",
    "m1 = LinearRegression()\n",
    "m1.fit(cannabis[effect_cols], cannabis['Type'])\n",
    "\n",
    "# Logistic Regression using only flavor predictors\n",
    "m2 = LinearRegression()\n",
    "m2.fit(cannabis[flavors_cols], cannabis['Type'])\n",
    "\n",
    "# Logistic Regression using only rating predictor\n",
    "m3 = LinearRegression()\n",
    "m3.fit(cannabis[['Rating']], cannabis['Type'])"
   ]
  },
  {
   "cell_type": "markdown",
   "metadata": {},
   "source": [
    "### Step 2: Weight Sets"
   ]
  },
  {
   "cell_type": "code",
   "execution_count": 29,
   "metadata": {},
   "outputs": [],
   "source": [
    "w1 = np.concatenate([m1.coef_, np.zeros(len(flavors_cols) + 1)])\n",
    "w2 = np.concatenate([np.zeros(len(effect_cols)), m2.coef_, np.zeros(1)])\n",
    "w3 = np.concatenate([np.zeros(len(effect_cols) + len(flavors_cols)), m3.coef_])\n",
    "\n",
    "c1 = m1.intercept_\n",
    "c2 = m2.intercept_\n",
    "c3 = m3.intercept_"
   ]
  },
  {
   "cell_type": "markdown",
   "metadata": {},
   "source": [
    "### Step 3: Perceptron Function"
   ]
  },
  {
   "cell_type": "code",
   "execution_count": 44,
   "metadata": {},
   "outputs": [],
   "source": [
    "# activation function: sigmoid\n",
    "def sigmoid(x):\n",
    "    return 1 / (1 + np.exp(-x))\n",
    "\n",
    "def perceptron(preds, w1, w2, w3, c1, c2, c3):\n",
    "    preds = np.array(preds)\n",
    "\n",
    "    z1 = np.dot(preds, w1) + c1\n",
    "    z2 = np.dot(preds, w2) + c2\n",
    "    z3 = np.dot(preds, w3) + c3\n",
    "\n",
    "    u1 = sigmoid(z1)\n",
    "    u2 = sigmoid(z2)\n",
    "    u3 = sigmoid(z3)\n",
    "\n",
    "    u = np.array([u1, u2, u3])\n",
    "    v = np.array([1/3, 1/3, 1/3])\n",
    "    d = 0\n",
    "\n",
    "    hidden_layer = np.dot(u, v) + d\n",
    "    output = sigmoid(hidden_layer)\n",
    "\n",
    "    return output"
   ]
  },
  {
   "cell_type": "markdown",
   "metadata": {},
   "source": [
    "### Step 4: Prediction"
   ]
  },
  {
   "cell_type": "code",
   "execution_count": 60,
   "metadata": {},
   "outputs": [
    {
     "data": {
      "text/html": [
       "<div>\n",
       "<style scoped>\n",
       "    .dataframe tbody tr th:only-of-type {\n",
       "        vertical-align: middle;\n",
       "    }\n",
       "\n",
       "    .dataframe tbody tr th {\n",
       "        vertical-align: top;\n",
       "    }\n",
       "\n",
       "    .dataframe thead th {\n",
       "        text-align: right;\n",
       "    }\n",
       "</style>\n",
       "<table border=\"1\" class=\"dataframe\">\n",
       "  <thead>\n",
       "    <tr style=\"text-align: right;\">\n",
       "      <th></th>\n",
       "      <th>Strain</th>\n",
       "      <th>Predicted Sativa</th>\n",
       "    </tr>\n",
       "  </thead>\n",
       "  <tbody>\n",
       "    <tr>\n",
       "      <th>0</th>\n",
       "      <td>100-Og</td>\n",
       "      <td>0.652103</td>\n",
       "    </tr>\n",
       "    <tr>\n",
       "      <th>1</th>\n",
       "      <td>98-White-Widow</td>\n",
       "      <td>0.656424</td>\n",
       "    </tr>\n",
       "    <tr>\n",
       "      <th>3</th>\n",
       "      <td>13-Dawgs</td>\n",
       "      <td>0.652649</td>\n",
       "    </tr>\n",
       "    <tr>\n",
       "      <th>4</th>\n",
       "      <td>24K-Gold</td>\n",
       "      <td>0.651774</td>\n",
       "    </tr>\n",
       "    <tr>\n",
       "      <th>6</th>\n",
       "      <td>3-Kings</td>\n",
       "      <td>0.641211</td>\n",
       "    </tr>\n",
       "  </tbody>\n",
       "</table>\n",
       "</div>"
      ],
      "text/plain": [
       "           Strain  Predicted Sativa\n",
       "0          100-Og          0.652103\n",
       "1  98-White-Widow          0.656424\n",
       "3        13-Dawgs          0.652649\n",
       "4        24K-Gold          0.651774\n",
       "6         3-Kings          0.641211"
      ]
     },
     "execution_count": 60,
     "metadata": {},
     "output_type": "execute_result"
    }
   ],
   "source": [
    "cannabis_hybrid_preds = cannabis_hybrid[effect_cols.tolist() + flavors_cols.tolist() + ['Rating']]\n",
    "preds = cannabis_hybrid_preds.apply(lambda x: perceptron(x, w1, w2, w3, c1, c2, c3), axis=1)\n",
    "\n",
    "cannabis_hybrid['Predicted Sativa'] = preds\n",
    "cannabis_hybrid[['Strain', 'Predicted Sativa']].head()"
   ]
  },
  {
   "cell_type": "markdown",
   "metadata": {},
   "source": [
    "- The first strain 100 OG is balanced between indica and sativa, and the perceptron model predicted around 65% sativa, which means it is more sativa dominant.\n",
    "- The second strain 98 White Widow is 70% sativa nd 30% indica, and the perceptron model predicted around 65% sativa, which is pretty close to the actual value.\n",
    "- 13-Dawgs is also a balance between indica and sativa, and the perceptron model predicted around 65% sativa, which means it is more sativa dominant.\n",
    "- 24K Gold is 60% indica and 40% sativa, and the perceptron model predicted around 65% sativa, which means here it predicted more sativa than the actual value.\n",
    "- 3 Kings is 60% sativa and 40% indica, and the perceptron model predicted around 65% sativa, which means it was relatively close to the actual value.\n",
    "- The perceptron model overall is not very accurate in predicting the strain type, but it was good on the 2nd and 5th strain."
   ]
  },
  {
   "cell_type": "markdown",
   "metadata": {},
   "source": [
    "### Step 5: The Hidden Layer"
   ]
  },
  {
   "cell_type": "code",
   "execution_count": 58,
   "metadata": {},
   "outputs": [],
   "source": [
    "def perceptron_weighted(preds, w1, w2, w3, c1, c2, c3):\n",
    "    preds = np.array(preds)\n",
    "\n",
    "    z1 = np.dot(preds, w1) + c1\n",
    "    z2 = np.dot(preds, w2) + c2\n",
    "    z3 = np.dot(preds, w3) + c3\n",
    "\n",
    "    u1 = sigmoid(z1)\n",
    "    u2 = sigmoid(z2)\n",
    "    u3 = sigmoid(z3)\n",
    "\n",
    "    u = np.array([u1, u2, u3])\n",
    "    v = np.array([0.3, 0.4, 0.3])\n",
    "    d = -0.55\n",
    "\n",
    "    hidden_layer = np.dot(u, v) + d\n",
    "    output = sigmoid(hidden_layer)\n",
    "\n",
    "    return output"
   ]
  },
  {
   "cell_type": "code",
   "execution_count": 59,
   "metadata": {},
   "outputs": [
    {
     "data": {
      "text/html": [
       "<div>\n",
       "<style scoped>\n",
       "    .dataframe tbody tr th:only-of-type {\n",
       "        vertical-align: middle;\n",
       "    }\n",
       "\n",
       "    .dataframe tbody tr th {\n",
       "        vertical-align: top;\n",
       "    }\n",
       "\n",
       "    .dataframe thead th {\n",
       "        text-align: right;\n",
       "    }\n",
       "</style>\n",
       "<table border=\"1\" class=\"dataframe\">\n",
       "  <thead>\n",
       "    <tr style=\"text-align: right;\">\n",
       "      <th></th>\n",
       "      <th>Strain</th>\n",
       "      <th>Predicted Sativa</th>\n",
       "      <th>Predicted Sativa with Weights</th>\n",
       "    </tr>\n",
       "  </thead>\n",
       "  <tbody>\n",
       "    <tr>\n",
       "      <th>0</th>\n",
       "      <td>100-Og</td>\n",
       "      <td>0.652103</td>\n",
       "      <td>0.519938</td>\n",
       "    </tr>\n",
       "    <tr>\n",
       "      <th>1</th>\n",
       "      <td>98-White-Widow</td>\n",
       "      <td>0.656424</td>\n",
       "      <td>0.524961</td>\n",
       "    </tr>\n",
       "    <tr>\n",
       "      <th>3</th>\n",
       "      <td>13-Dawgs</td>\n",
       "      <td>0.652649</td>\n",
       "      <td>0.522664</td>\n",
       "    </tr>\n",
       "    <tr>\n",
       "      <th>4</th>\n",
       "      <td>24K-Gold</td>\n",
       "      <td>0.651774</td>\n",
       "      <td>0.520088</td>\n",
       "    </tr>\n",
       "    <tr>\n",
       "      <th>6</th>\n",
       "      <td>3-Kings</td>\n",
       "      <td>0.641211</td>\n",
       "      <td>0.507320</td>\n",
       "    </tr>\n",
       "  </tbody>\n",
       "</table>\n",
       "</div>"
      ],
      "text/plain": [
       "           Strain  Predicted Sativa  Predicted Sativa with Weights\n",
       "0          100-Og          0.652103                       0.519938\n",
       "1  98-White-Widow          0.656424                       0.524961\n",
       "3        13-Dawgs          0.652649                       0.522664\n",
       "4        24K-Gold          0.651774                       0.520088\n",
       "6         3-Kings          0.641211                       0.507320"
      ]
     },
     "execution_count": 59,
     "metadata": {},
     "output_type": "execute_result"
    }
   ],
   "source": [
    "weighted_preds = cannabis_hybrid_preds.apply(lambda x: perceptron_weighted(x, w1, w2, w3, c1, c2, c3), axis=1)\n",
    "\n",
    "cannabis_hybrid['Predicted Sativa with Weights'] = weighted_preds\n",
    "cannabis_hybrid[['Strain', 'Predicted Sativa', 'Predicted Sativa with Weights']].head()"
   ]
  },
  {
   "cell_type": "markdown",
   "metadata": {},
   "source": [
    "- Instead of doing a majority vote, to determine the final output, I multiplied all the net inputs by a weight which sum to 1. This way, the output is a weighted average of the net inputs, which is a more accurate representation of the final output. I choose this custom set of weights as it performed better with a bias value of -0.5.\n",
    "- In this perceptron model, the performance was much better since it got better at predicting the the first and third strain. For the second strain it got worse overall since it got further from the actual value, but it was still on the correct side. The 4th strain prediction was much closer than the previous model, and the 5th strain prediction was also much closer to the actual value."
   ]
  },
  {
   "cell_type": "markdown",
   "metadata": {},
   "source": [
    "## Section C: Concepts"
   ]
  },
  {
   "cell_type": "markdown",
   "metadata": {},
   "source": [
    "1. Draw the configuration of the perceptron we built in Section B.\n",
    "    - Drawing 1 is the first image below.\n",
    "\n",
    "2. In the setup of Section B, we \"cheated\" on the first step: We chose our weight sets ahead of time instead of **fitting** a perceptron. Suppose instead, we used the typical unpenalized Logistic Regression loss function as our loss for the perceptron. What would you expect to get for w1, w2, and w3, in this case? Why?\n",
    "    - If instead of cheating by choosing the weight sets ahead of time and using the typical unpenalized Logistic Regression loss function as our loss for the perceptron, the weights would be different from the weights from fitting individually. This solely due to the fact that we would be using a model that includes all the predictors with the same loss function. The process of fitting would adjust the weights to minimize the error in classification. So each weight set would not be fitted independently, but rather together so that the final weights would be the combined effect of all the predictors.\n",
    "\n",
    "3. Suppose we wanted to train a perceptron for all three categories: Sativa, Indica, and Hybrid. Draw a perceptron configuration for (a) a one-vs-one approach and (b) a one-vs-all approach. Make sure to be specific about what your **final output(s)** are and what your **loss function** is for each of the two configurations.\n",
    "    - For the one-vs-one approach, I would have a separate binary classifier for each pair of classes. There would be 3 classifiers then which would be sativa vs indica, sativa vs hybrid, and indica vs hybrid. The final output would be the majority vote of the 3 classifiers. For the loss function, I chose to go with a binary cross-entropy loss function, which can distinguish between the two classes and measures how well each perceptron separates each of its 2 classes\n",
    "        - Drawing 2 is the second image below.\n",
    "    - For the one-vs-all approach, I would have separate classifiers for each class and in total there would be 3. These 3 would be sativa vs not sativa, indica vs not indica, and hybrid vs not hybrid. The final output would be the class with the highest probability. For the loss function, I chose to go with a categorical cross-entropy loss function since there will be probabilities for each class and multiple classes.\n",
    "        - Drawing 3 is the third image below."
   ]
  }
 ],
 "metadata": {
  "kernelspec": {
   "display_name": "Python 3",
   "language": "python",
   "name": "python3"
  },
  "language_info": {
   "codemirror_mode": {
    "name": "ipython",
    "version": 3
   },
   "file_extension": ".py",
   "mimetype": "text/x-python",
   "name": "python",
   "nbconvert_exporter": "python",
   "pygments_lexer": "ipython3",
   "version": "3.9.6"
  }
 },
 "nbformat": 4,
 "nbformat_minor": 2
}
