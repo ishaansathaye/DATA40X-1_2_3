{
 "cells": [
  {
   "cell_type": "code",
   "execution_count": null,
   "metadata": {},
   "outputs": [],
   "source": [
    "# make a gradient desc function\n",
    "\n",
    "import numpy as np\n",
    "\n",
    "def gradient_descent(x, y, theta, alpha, m, numIterations):\n",
    "    xTrans = x.transpose()\n",
    "    for i in range(0, numIterations):\n",
    "        hypothesis = np.dot(x, theta)\n",
    "        loss = hypothesis - y\n",
    "        cost = np.sum(loss ** 2) / (2 * m)\n",
    "        print(\"Iteration %d | Cost: %f\" % (i, cost))\n",
    "        gradient = np.dot(xTrans, loss) / m\n",
    "        theta = theta - alpha * gradient\n",
    "    return theta"
   ]
  }
 ],
 "metadata": {
  "language_info": {
   "name": "python"
  }
 },
 "nbformat": 4,
 "nbformat_minor": 2
}
