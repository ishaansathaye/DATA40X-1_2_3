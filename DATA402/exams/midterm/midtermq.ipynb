{
 "cells": [
  {
   "cell_type": "markdown",
   "metadata": {},
   "source": [
    "# Midterm"
   ]
  },
  {
   "cell_type": "markdown",
   "metadata": {},
   "source": [
    "## Part I"
   ]
  },
  {
   "cell_type": "markdown",
   "metadata": {},
   "source": [
    "A researcher wishes to fit a linear regression model with several predictors. She is considering three loss functions:\n",
    "\n",
    "1. $loss = \\sum_{i=1}^n (y_i - \\hat{y}_i)^2 + \\lambda^2 \\sum_{j=1}^p \\beta_j^2 + 5\\lambda$\n",
    "\n",
    "2. $loss = \\sum_{i=1}^n |y_i - \\hat{y}_i| + \\sum_{j=1}^p |\\beta_j|$\n",
    "\n",
    "3. $loss = \\prod_{i=1}^n \\frac{(y_i - \\hat{y}_i)^2}{y_i^2}$\n",
    "\n",
    "For each of these options:\n",
    "\n",
    "1. Give an intuitive explanation for this choice of loss function. How does it express the desire for accurate predictions of a quantitative variable?\n",
    "\n",
    "2. Do you see any possible issues with this loss function? What assumptions have to be true about the data for this loss function to be viable?\n",
    "\n",
    "3. Find an equation for the *gradient* of the loss function. (A general equation for the partial derivative at $\\beta_j$ will suffice.)\n",
    "\n",
    "4. Give a brief code outline (psuedocode) to show the procedure you would use to calculate the \"best\" $\\beta$'s according to this loss function. You code to does not need to run; however, it **does** need to be specific about the inputs as well as the equations. For example:\n",
    "\n",
    "Sufficient:\n",
    "```psuedocode\n",
    "def ols(x, y):\n",
    "    sx = std dev of x\n",
    "    sy = std dev of y\n",
    "\n",
    "    mx = mean of x\n",
    "    my = mean of y\n",
    "\n",
    "    rxy = correlation of x and y\n",
    "\n",
    "    beta_1 = sy/sx * rxy\n",
    "    beta_0 = my - beta_1 * mx\n",
    "\n",
    "    return beta_0, beta_1\n",
    "```"
   ]
  },
  {
   "cell_type": "markdown",
   "metadata": {},
   "source": [
    "## Part II"
   ]
  },
  {
   "cell_type": "markdown",
   "metadata": {},
   "source": [
    "### Question A"
   ]
  },
  {
   "cell_type": "markdown",
   "metadata": {},
   "source": [
    "A researcher is trying to fit a linear regression model using a LASSO penalty. To choose a good value of the penalty parameters, $\\lambda$, she decides to take the following approach:\n",
    "\n",
    "- For each of the many possible $\\lambda$ values:\n",
    "    - Fit the model using that $\\lambda$\n",
    "    - Find the predicted values from the model, $\\hat{y}_1 \\dots \\hat{y}_n$\n",
    "    - Calculate the residuals, $r_i = y_i - \\hat{y}_i$\n",
    "    - Calculate the sum of the squared residuals\n",
    "- Then we choose the value of $\\lambda$ that resulted in the model with the smallest sum of squared residuals.\n",
    "\n",
    "Discuss this strategy: Do you think it is a good idea? Why or why not? Do you have any suggestions to make it more efficient, more justifiable, or more correct?"
   ]
  },
  {
   "cell_type": "markdown",
   "metadata": {},
   "source": [
    "### Question B\n",
    "\n",
    "Your fame as a data scientist has spread far and wide, and university hires you to investigate faculty happiness. They supply you with two datasets:\n",
    "\n",
    "1. 1000 emails sent from faculty accounts in January 2022 all of which have been analyzed by language experts and given a \"happiness score\" on a scale of 0 to 100.\n",
    "2. 10,000 emails sent from faculty accounts in February to December 2022, which have not been analyzed.\n",
    "\n",
    "The university cannot afford to hire their language analysts for all 10,000 emails, but they can bring them back for another batch of around 1000 if you ask them to.\n",
    "\n",
    "Your client would like you to create a predictive model from the 1000 email dataset, that can be used to assess the happiness of the 10,000 email dataset. They would then like you to tell them if faculty happiness was increasing, decreasing, of staying the same across 2022.\n",
    "\n",
    "**Propose a modeling process to address this question**\n",
    "\n",
    "You should include:\n",
    "\n",
    "- A (very brief) description of how you might **pre-process** the data\n",
    "- A **model specification**, and **why** you think that model would be a good choice for this task. This can be a model we studied, an existing model we haven't studied, or you can \"invent\" something–but you must include some discussion of why you think that choice is good/reasonable for this scenario.\n",
    "- A **loss function** that you will use to fit the model, and **why** this loss function correctly expresses your desires for your \"best\" model.\n",
    "- A **metric** you will use to report your model's abilities and/or to tune hyperparameters, and **why** this metric is a good measure of \"model success\" in this case. This metric should not be R-squared, MAE, or MSE. (Those would be reasonable in this case, but I want you to find/invent a different one and justify it.)\n",
    "\n",
    "Note: You do *not* need to concern yourself in this question with the computational feasibility of your model, loss, or metric. I am only looking for your to translate the \"real world\" needs of the scenario into mathematical decisions."
   ]
  }
 ],
 "metadata": {
  "language_info": {
   "name": "python"
  }
 },
 "nbformat": 4,
 "nbformat_minor": 2
}
